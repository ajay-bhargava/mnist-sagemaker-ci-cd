{
 "cells": [
  {
   "cell_type": "code",
   "execution_count": null,
   "metadata": {},
   "outputs": [],
   "source": [
    "from ast import literal_eval\n",
    "import boto3\n",
    "import numpy as np\n",
    "import sagemaker\n",
    "from src.mnist_sagemaker_ci_cd.lib.settings import Settings\n",
    "from sagemaker.serializers import NumpySerializer\n",
    "from sagemaker.deserializers import JSONDeserializer\n",
    "from sagemaker.estimator import Estimator\n",
    "from sagemaker.pytorch import PyTorchModel"
   ]
  },
  {
   "cell_type": "code",
   "execution_count": null,
   "metadata": {},
   "outputs": [],
   "source": [
    "SESSION = sagemaker.Session(boto3.Session(region_name=\"us-east-1\"))\n",
    "IAM_ROLE = \"arn:aws:iam::220582896887:role/programmatic-aws-sagemaker-role-access\"\n",
    "SETTINGS = Settings()"
   ]
  },
  {
   "cell_type": "code",
   "execution_count": null,
   "metadata": {},
   "outputs": [],
   "source": [
    "# This number was grabbed from the MNIST dataset.\n",
    "sample_number = \"\"\"[\n",
    " [\n",
    "     [0, 0, 0, 0, 0, 0, 0  , 0  , 0  , 0  , 0  , 0  , 0  , 0  , 0  , 0  , 0  , 0  , 0  , 0  , 0  , 0  , 0, 0, 0, 0, 0, 0],\n",
    "     [0, 0, 0, 0, 0, 0, 0  , 0  , 0  , 0  , 0  , 0  , 0  , 0  , 0  , 0  , 0  , 0  , 0  , 0  , 0  , 0  , 0, 0, 0, 0, 0, 0],\n",
    "     [0, 0, 0, 0, 0, 0, 0  , 0  , 0  , 0  , 0  , 0  , 0  , 0  , 0  , 0  , 0  , 0  , 0  , 0  , 0  , 0  , 0, 0, 0, 0, 0, 0],\n",
    "     [0, 0, 0, 0, 0, 0, 0  , 0  , 0  , 0  , 0  , 0  , 0  , 0  , 0  , 0  , 0  , 0  , 0  , 0  , 0  , 0  , 0, 0, 0, 0, 0, 0],\n",
    "     [0, 0, 0, 0, 0, 0, 0  , 0  , 0  , 0  , 0  , 0  , 0  , 0  , 0  , 0  , 0  , 0  , 0  , 0  , 0  , 0  , 0, 0, 0, 0, 0, 0],\n",
    "     [0, 0, 0, 0, 0, 0, 0  , 0  , 0  , 0  , 0  , 0  , 0  , 0  , 0  , 0  , 0  , 0  , 0  , 0  , 0  , 0  , 0, 0, 0, 0, 0, 0],\n",
    "     [0, 0, 0, 0, 0, 0, 0  , 0  , 0  , 0  , 0  , 0  , 0  , 0  , 0  , 0  , 0  , 0  , 0  , 0  , 0  , 0  , 0, 0, 0, 0, 0, 0],\n",
    "     [0, 0, 0, 0, 0, 0, 84 , 185, 159, 151, 60 , 36 , 0  , 0  , 0  , 0  , 0  , 0  , 0  , 0  , 0  , 0  , 0, 0, 0, 0, 0, 0],\n",
    "     [0, 0, 0, 0, 0, 0, 222, 254, 254, 254, 254, 241, 198, 198, 198, 198, 198, 198, 198, 198, 170, 52 , 0, 0, 0, 0, 0, 0],\n",
    "     [0, 0, 0, 0, 0, 0, 67 , 114, 72 , 114, 163, 227, 254, 225, 254, 254, 254, 250, 229, 254, 254, 140, 0, 0, 0, 0, 0, 0],\n",
    "     [0, 0, 0, 0, 0, 0, 0  , 0  , 0  , 0  , 0  , 17 , 66 , 14 , 67 , 67 , 67 , 59 , 21 , 236, 254, 106, 0, 0, 0, 0, 0, 0],\n",
    "     [0, 0, 0, 0, 0, 0, 0  , 0  , 0  , 0  , 0  , 0  , 0  , 0  , 0  , 0  , 0  , 0  , 83 , 253, 209, 18 , 0, 0, 0, 0, 0, 0],\n",
    "     [0, 0, 0, 0, 0, 0, 0  , 0  , 0  , 0  , 0  , 0  , 0  , 0  , 0  , 0  , 0  , 22 , 233, 255, 83 , 0  , 0, 0, 0, 0, 0, 0],\n",
    "     [0, 0, 0, 0, 0, 0, 0  , 0  , 0  , 0  , 0  , 0  , 0  , 0  , 0  , 0  , 0  , 129, 254, 238, 44 , 0  , 0, 0, 0, 0, 0, 0],\n",
    "     [0, 0, 0, 0, 0, 0, 0  , 0  , 0  , 0  , 0  , 0  , 0  , 0  , 0  , 0  , 59 , 249, 254, 62 , 0  , 0  , 0, 0, 0, 0, 0, 0],\n",
    "     [0, 0, 0, 0, 0, 0, 0  , 0  , 0  , 0  , 0  , 0  , 0  , 0  , 0  , 0  , 133, 254, 187, 5  , 0  , 0  , 0, 0, 0, 0, 0, 0],\n",
    "     [0, 0, 0, 0, 0, 0, 0  , 0  , 0  , 0  , 0  , 0  , 0  , 0  , 0  , 9  , 205, 248, 58 , 0  , 0  , 0  , 0, 0, 0, 0, 0, 0],\n",
    "     [0, 0, 0, 0, 0, 0, 0  , 0  , 0  , 0  , 0  , 0  , 0  , 0  , 0  , 126, 254, 182, 0  , 0  , 0  , 0  , 0, 0, 0, 0, 0, 0],\n",
    "     [0, 0, 0, 0, 0, 0, 0  , 0  , 0  , 0  , 0  , 0  , 0  , 0  , 75 , 251, 240, 57 , 0  , 0  , 0  , 0  , 0, 0, 0, 0, 0, 0],\n",
    "     [0, 0, 0, 0, 0, 0, 0  , 0  , 0  , 0  , 0  , 0  , 0  , 19 , 221, 254, 166, 0  , 0  , 0  , 0  , 0  , 0, 0, 0, 0, 0, 0],\n",
    "     [0, 0, 0, 0, 0, 0, 0  , 0  , 0  , 0  , 0  , 0  , 3  , 203, 254, 219, 35 , 0  , 0  , 0  , 0  , 0  , 0, 0, 0, 0, 0, 0],\n",
    "     [0, 0, 0, 0, 0, 0, 0  , 0  , 0  , 0  , 0  , 0  , 38 , 254, 254, 77 , 0  , 0  , 0  , 0  , 0  , 0  , 0, 0, 0, 0, 0, 0],\n",
    "     [0, 0, 0, 0, 0, 0, 0  , 0  , 0  , 0  , 0  , 31 , 224, 254, 115, 1  , 0  , 0  , 0  , 0  , 0  , 0  , 0, 0, 0, 0, 0, 0],\n",
    "     [0, 0, 0, 0, 0, 0, 0  , 0  , 0  , 0  , 0  , 133, 254, 254, 52 , 0  , 0  , 0  , 0  , 0  , 0  , 0  , 0, 0, 0, 0, 0, 0],\n",
    "     [0, 0, 0, 0, 0, 0, 0  , 0  , 0  , 0  , 61 , 242, 254, 254, 52 , 0  , 0  , 0  , 0  , 0  , 0  , 0  , 0, 0, 0, 0, 0, 0],\n",
    "     [0, 0, 0, 0, 0, 0, 0  , 0  , 0  , 0  , 121, 254, 254, 219, 40 , 0  , 0  , 0  , 0  , 0  , 0  , 0  , 0, 0, 0, 0, 0, 0],\n",
    "     [0, 0, 0, 0, 0, 0, 0  , 0  , 0  , 0  , 121, 254, 207, 18 , 0  , 0  , 0  , 0  , 0  , 0  , 0  , 0  , 0, 0, 0, 0, 0, 0],\n",
    "     [0, 0, 0, 0, 0, 0, 0  , 0  , 0  , 0  , 0  , 0  , 0  , 0  , 0  , 0  , 0  , 0  , 0  , 0  , 0  , 0  , 0, 0, 0, 0, 0, 0]\n",
    " ],\n",
    "]\"\"\""
   ]
  },
  {
   "cell_type": "code",
   "execution_count": null,
   "metadata": {},
   "outputs": [],
   "source": [
    "data = literal_eval(sample_number)\n",
    "image = np.array([data], dtype=np.float32)"
   ]
  },
  {
   "cell_type": "code",
   "execution_count": null,
   "metadata": {},
   "outputs": [],
   "source": [
    "model_path = Estimator.attach(\n",
    "    training_job_name=SETTINGS.github_sha[:7], sagemaker_session=SESSION\n",
    ").model_data\n",
    "\n",
    "model = PyTorchModel(\n",
    "    model_data=model_path,\n",
    "    role=IAM_ROLE,\n",
    "    sagemaker_session=SESSION,\n",
    "    source_dir=\"./\",\n",
    "    framework_version='2.1',\n",
    "    py_version='py310',\n",
    "    entry_point=\"src/mnist_sagemaker_ci_cd/lib/inference.py\",\n",
    "    name=SETTINGS.github_sha[:7],\n",
    "    code_location=SETTINGS.output_s3_uri,\n",
    ")\n",
    "\n",
    "endpoint_name = f\"{SETTINGS.github_sha[:7]}\"\n",
    "\n",
    "predictor = model.deploy(\n",
    "    initial_instance_count=1,\n",
    "    instance_type=\"ml.m5.large\",\n",
    "    endpoint_name=endpoint_name,\n",
    "    # This is required and must match the input type of the inference.py script\n",
    "    serializer=NumpySerializer(dtype=np.float32),\n",
    "    deserializer=JSONDeserializer(),\n",
    "    # End of the deliberate requirement section\n",
    "    endpoint_logging=True,\n",
    ")"
   ]
  }
 ],
 "metadata": {
  "kernelspec": {
   "display_name": "mnist-sagemaker-ci-cd-env",
   "language": "python",
   "name": "python3"
  },
  "language_info": {
   "codemirror_mode": {
    "name": "ipython",
    "version": 3
   },
   "file_extension": ".py",
   "mimetype": "text/x-python",
   "name": "python",
   "nbconvert_exporter": "python",
   "pygments_lexer": "ipython3",
   "version": "3.11.7"
  }
 },
 "nbformat": 4,
 "nbformat_minor": 2
}
