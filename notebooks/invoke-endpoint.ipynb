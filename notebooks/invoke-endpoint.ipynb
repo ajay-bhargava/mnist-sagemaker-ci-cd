{
 "cells": [
  {
   "cell_type": "code",
   "execution_count": null,
   "metadata": {},
   "outputs": [],
   "source": [
    "import sys\n",
    "\n",
    "sys.path.append('../')"
   ]
  },
  {
   "cell_type": "code",
   "execution_count": null,
   "metadata": {},
   "outputs": [],
   "source": [
    "from ast import literal_eval\n",
    "\n",
    "import boto3\n",
    "import numpy as np\n",
    "import sagemaker\n",
    "from sagemaker.deserializers import JSONDeserializer\n",
    "from sagemaker.predictor import Predictor\n",
    "from sagemaker.serializers import NumpySerializer\n",
    "from src.mnist_sagemaker_ci_cd.lib.settings import Settings\n"
   ]
  },
  {
   "cell_type": "markdown",
   "metadata": {},
   "source": [
    "## Sagemaker Endpoint Deployment\n",
    "In this notebook, we describe the steps to invoke an endpoint once its been deployed via Sagemaker. The key thing to learn here is that the `sagemaker.predictor.Predictor` class is used to invoke the endpoint. This can be effectively wrapped around a FastAPI app to create a REST API since that's not really exposed by Sagemaker."
   ]
  },
  {
   "cell_type": "code",
   "execution_count": null,
   "metadata": {},
   "outputs": [],
   "source": [
    "SESSION = sagemaker.Session(boto3.Session(region_name=\"us-east-1\"))\n",
    "IAM_ROLE = \"arn:aws:iam::220582896887:role/programmatic-aws-sagemaker-role-access\"\n",
    "SETTINGS = Settings()"
   ]
  },
  {
   "cell_type": "code",
   "execution_count": null,
   "metadata": {},
   "outputs": [],
   "source": [
    "# This number was grabbed from the MNIST dataset.\n",
    "sample_number = \"\"\"[\n",
    " [\n",
    "     [0, 0, 0, 0, 0, 0, 0  , 0  , 0  , 0  , 0  , 0  , 0  , 0  , 0  , 0  , 0  , 0  , 0  , 0  , 0  , 0  , 0, 0, 0, 0, 0, 0],\n",
    "     [0, 0, 0, 0, 0, 0, 0  , 0  , 0  , 0  , 0  , 0  , 0  , 0  , 0  , 0  , 0  , 0  , 0  , 0  , 0  , 0  , 0, 0, 0, 0, 0, 0],\n",
    "     [0, 0, 0, 0, 0, 0, 0  , 0  , 0  , 0  , 0  , 0  , 0  , 0  , 0  , 0  , 0  , 0  , 0  , 0  , 0  , 0  , 0, 0, 0, 0, 0, 0],\n",
    "     [0, 0, 0, 0, 0, 0, 0  , 0  , 0  , 0  , 0  , 0  , 0  , 0  , 0  , 0  , 0  , 0  , 0  , 0  , 0  , 0  , 0, 0, 0, 0, 0, 0],\n",
    "     [0, 0, 0, 0, 0, 0, 0  , 0  , 0  , 0  , 0  , 0  , 0  , 0  , 0  , 0  , 0  , 0  , 0  , 0  , 0  , 0  , 0, 0, 0, 0, 0, 0],\n",
    "     [0, 0, 0, 0, 0, 0, 0  , 0  , 0  , 0  , 0  , 0  , 0  , 0  , 0  , 0  , 0  , 0  , 0  , 0  , 0  , 0  , 0, 0, 0, 0, 0, 0],\n",
    "     [0, 0, 0, 0, 0, 0, 0  , 0  , 0  , 0  , 0  , 0  , 0  , 0  , 0  , 0  , 0  , 0  , 0  , 0  , 0  , 0  , 0, 0, 0, 0, 0, 0],\n",
    "     [0, 0, 0, 0, 0, 0, 84 , 185, 159, 151, 60 , 36 , 0  , 0  , 0  , 0  , 0  , 0  , 0  , 0  , 0  , 0  , 0, 0, 0, 0, 0, 0],\n",
    "     [0, 0, 0, 0, 0, 0, 222, 254, 254, 254, 254, 241, 198, 198, 198, 198, 198, 198, 198, 198, 170, 52 , 0, 0, 0, 0, 0, 0],\n",
    "     [0, 0, 0, 0, 0, 0, 67 , 114, 72 , 114, 163, 227, 254, 225, 254, 254, 254, 250, 229, 254, 254, 140, 0, 0, 0, 0, 0, 0],\n",
    "     [0, 0, 0, 0, 0, 0, 0  , 0  , 0  , 0  , 0  , 17 , 66 , 14 , 67 , 67 , 67 , 59 , 21 , 236, 254, 106, 0, 0, 0, 0, 0, 0],\n",
    "     [0, 0, 0, 0, 0, 0, 0  , 0  , 0  , 0  , 0  , 0  , 0  , 0  , 0  , 0  , 0  , 0  , 83 , 253, 209, 18 , 0, 0, 0, 0, 0, 0],\n",
    "     [0, 0, 0, 0, 0, 0, 0  , 0  , 0  , 0  , 0  , 0  , 0  , 0  , 0  , 0  , 0  , 22 , 233, 255, 83 , 0  , 0, 0, 0, 0, 0, 0],\n",
    "     [0, 0, 0, 0, 0, 0, 0  , 0  , 0  , 0  , 0  , 0  , 0  , 0  , 0  , 0  , 0  , 129, 254, 238, 44 , 0  , 0, 0, 0, 0, 0, 0],\n",
    "     [0, 0, 0, 0, 0, 0, 0  , 0  , 0  , 0  , 0  , 0  , 0  , 0  , 0  , 0  , 59 , 249, 254, 62 , 0  , 0  , 0, 0, 0, 0, 0, 0],\n",
    "     [0, 0, 0, 0, 0, 0, 0  , 0  , 0  , 0  , 0  , 0  , 0  , 0  , 0  , 0  , 133, 254, 187, 5  , 0  , 0  , 0, 0, 0, 0, 0, 0],\n",
    "     [0, 0, 0, 0, 0, 0, 0  , 0  , 0  , 0  , 0  , 0  , 0  , 0  , 0  , 9  , 205, 248, 58 , 0  , 0  , 0  , 0, 0, 0, 0, 0, 0],\n",
    "     [0, 0, 0, 0, 0, 0, 0  , 0  , 0  , 0  , 0  , 0  , 0  , 0  , 0  , 126, 254, 182, 0  , 0  , 0  , 0  , 0, 0, 0, 0, 0, 0],\n",
    "     [0, 0, 0, 0, 0, 0, 0  , 0  , 0  , 0  , 0  , 0  , 0  , 0  , 75 , 251, 240, 57 , 0  , 0  , 0  , 0  , 0, 0, 0, 0, 0, 0],\n",
    "     [0, 0, 0, 0, 0, 0, 0  , 0  , 0  , 0  , 0  , 0  , 0  , 19 , 221, 254, 166, 0  , 0  , 0  , 0  , 0  , 0, 0, 0, 0, 0, 0],\n",
    "     [0, 0, 0, 0, 0, 0, 0  , 0  , 0  , 0  , 0  , 0  , 3  , 203, 254, 219, 35 , 0  , 0  , 0  , 0  , 0  , 0, 0, 0, 0, 0, 0],\n",
    "     [0, 0, 0, 0, 0, 0, 0  , 0  , 0  , 0  , 0  , 0  , 38 , 254, 254, 77 , 0  , 0  , 0  , 0  , 0  , 0  , 0, 0, 0, 0, 0, 0],\n",
    "     [0, 0, 0, 0, 0, 0, 0  , 0  , 0  , 0  , 0  , 31 , 224, 254, 115, 1  , 0  , 0  , 0  , 0  , 0  , 0  , 0, 0, 0, 0, 0, 0],\n",
    "     [0, 0, 0, 0, 0, 0, 0  , 0  , 0  , 0  , 0  , 133, 254, 254, 52 , 0  , 0  , 0  , 0  , 0  , 0  , 0  , 0, 0, 0, 0, 0, 0],\n",
    "     [0, 0, 0, 0, 0, 0, 0  , 0  , 0  , 0  , 61 , 242, 254, 254, 52 , 0  , 0  , 0  , 0  , 0  , 0  , 0  , 0, 0, 0, 0, 0, 0],\n",
    "     [0, 0, 0, 0, 0, 0, 0  , 0  , 0  , 0  , 121, 254, 254, 219, 40 , 0  , 0  , 0  , 0  , 0  , 0  , 0  , 0, 0, 0, 0, 0, 0],\n",
    "     [0, 0, 0, 0, 0, 0, 0  , 0  , 0  , 0  , 121, 254, 207, 18 , 0  , 0  , 0  , 0  , 0  , 0  , 0  , 0  , 0, 0, 0, 0, 0, 0],\n",
    "     [0, 0, 0, 0, 0, 0, 0  , 0  , 0  , 0  , 0  , 0  , 0  , 0  , 0  , 0  , 0  , 0  , 0  , 0  , 0  , 0  , 0, 0, 0, 0, 0, 0]\n",
    " ],\n",
    "]\"\"\""
   ]
  },
  {
   "cell_type": "code",
   "execution_count": null,
   "metadata": {},
   "outputs": [],
   "source": [
    "data = literal_eval(sample_number)\n",
    "image = np.array([data], dtype=np.float32)"
   ]
  },
  {
   "cell_type": "code",
   "execution_count": null,
   "metadata": {},
   "outputs": [],
   "source": [
    "predictor = Predictor(\n",
    "    endpoint_name = SETTINGS.github_sha[:7],\n",
    "    sagemaker_session = SESSION,\n",
    "    serializer = NumpySerializer(),\n",
    "    deserializer = JSONDeserializer()\n",
    ")"
   ]
  },
  {
   "cell_type": "code",
   "execution_count": null,
   "metadata": {},
   "outputs": [],
   "source": [
    "predictor.predict(image)"
   ]
  },
  {
   "cell_type": "markdown",
   "metadata": {},
   "source": [
    "## Deleting the endpooint. \n",
    "\n",
    "In the event that the endpoint doesn't satisfy the constraints of the business, it can be deleted using the `delete_endpoint` method.\n",
    "\n",
    "```python\n",
    "predictor.delete_endpoint()\n",
    "```\n",
    "\n",
    "### Running this in a Github Action\n",
    "\n",
    "```yaml\n",
    "  close_job:\n",
    "    # this job will only run if the PR has been closed without being merged\n",
    "    if: github.event.pull_request.merged == false\n",
    "    runs-on: ubuntu-latest\n",
    "    steps:\n",
    "    - run: |\n",
    "        echo PR #${{ github.event.number }} has been closed without being merged\n",
    "```\n"
   ]
  },
  {
   "cell_type": "markdown",
   "metadata": {},
   "source": []
  }
 ],
 "metadata": {
  "kernelspec": {
   "display_name": "mnist-sagemaker-ci-cd-env",
   "language": "python",
   "name": "python3"
  },
  "language_info": {
   "codemirror_mode": {
    "name": "ipython",
    "version": 3
   },
   "file_extension": ".py",
   "mimetype": "text/x-python",
   "name": "python",
   "nbconvert_exporter": "python",
   "pygments_lexer": "ipython3",
   "version": "3.11.7"
  }
 },
 "nbformat": 4,
 "nbformat_minor": 2
}
