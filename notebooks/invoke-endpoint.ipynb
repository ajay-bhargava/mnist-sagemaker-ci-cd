{
 "cells": [
  {
   "cell_type": "code",
   "execution_count": 1,
   "metadata": {},
   "outputs": [],
   "source": [
    "import sys\n",
    "\n",
    "sys.path.append('../')"
   ]
  },
  {
   "cell_type": "code",
   "execution_count": 10,
   "metadata": {},
   "outputs": [],
   "source": [
    "import boto3\n",
    "import sagemaker\n",
    "from sagemaker.deserializers import JSONDeserializer\n",
    "from sagemaker.predictor import Predictor\n",
    "from sagemaker.serializers import IdentitySerializer\n",
    "from src.mnist_sagemaker_ci_cd.lib.settings import Settings\n"
   ]
  },
  {
   "cell_type": "markdown",
   "metadata": {},
   "source": [
    "## Sagemaker Endpoint Deployment\n",
    "In this notebook, we describe the steps to invoke an endpoint once its been deployed via Sagemaker. The key thing to learn here is that the `sagemaker.predictor.Predictor` class is used to invoke the endpoint. This can be effectively wrapped around a FastAPI app to create a REST API since that's not really exposed by Sagemaker."
   ]
  },
  {
   "cell_type": "code",
   "execution_count": 11,
   "metadata": {},
   "outputs": [],
   "source": [
    "SESSION = sagemaker.Session(boto3.Session(region_name=\"us-east-1\"))\n",
    "IAM_ROLE = \"arn:aws:iam::220582896887:role/programmatic-aws-sagemaker-role-access\"\n",
    "SETTINGS = Settings()"
   ]
  },
  {
   "cell_type": "code",
   "execution_count": 12,
   "metadata": {},
   "outputs": [],
   "source": [
    "predictor = Predictor(\n",
    "    endpoint_name = SETTINGS.github_sha[:7],\n",
    "    sagemaker_session = SESSION,\n",
    "    serializer = IdentitySerializer(),\n",
    "    deserializer = JSONDeserializer()\n",
    ")"
   ]
  },
  {
   "cell_type": "code",
   "execution_count": 13,
   "metadata": {},
   "outputs": [],
   "source": [
    "with open('../data/4.png', 'rb') as f:\n",
    "    payload = f.read()"
   ]
  },
  {
   "cell_type": "code",
   "execution_count": null,
   "metadata": {},
   "outputs": [],
   "source": []
  },
  {
   "cell_type": "code",
   "execution_count": 14,
   "metadata": {},
   "outputs": [
    {
     "data": {
      "text/plain": [
       "{'prediction': [6]}"
      ]
     },
     "execution_count": 14,
     "metadata": {},
     "output_type": "execute_result"
    }
   ],
   "source": [
    "predictor.predict(payload)"
   ]
  },
  {
   "cell_type": "markdown",
   "metadata": {},
   "source": [
    "## Deleting the endpoint. \n",
    "\n",
    "In the event that the endpoint doesn't satisfy the constraints of the business, it can be deleted using the `delete_endpoint` method.\n",
    "\n",
    "```python\n",
    "predictor.delete_endpoint()\n",
    "```\n",
    "\n",
    "### Running this in a Github Action\n",
    "\n",
    "```yaml\n",
    "  close_job:\n",
    "    # this job will only run if the PR has been closed without being merged\n",
    "    if: github.event.pull_request.merged == false\n",
    "    runs-on: ubuntu-latest\n",
    "    steps:\n",
    "    - run: |\n",
    "        echo PR #${{ github.event.number }} has been closed without being merged\n",
    "```\n"
   ]
  },
  {
   "cell_type": "markdown",
   "metadata": {},
   "source": [
    "## Invoking Endpoint using only `boto3`\n",
    "Lamdba functions are notorious for being unable to accomodate multiple python packages. To reduce the burden of the number of packages, we can use `boto3` to invoke the endpoint. "
   ]
  },
  {
   "cell_type": "code",
   "execution_count": 3,
   "metadata": {},
   "outputs": [],
   "source": [
    "import sys\n",
    "\n",
    "sys.path.append('../')"
   ]
  },
  {
   "cell_type": "code",
   "execution_count": 4,
   "metadata": {},
   "outputs": [
    {
     "data": {
      "text/plain": [
       "6"
      ]
     },
     "execution_count": 4,
     "metadata": {},
     "output_type": "execute_result"
    }
   ],
   "source": [
    "import json\n",
    "\n",
    "import boto3\n",
    "from src.mnist_sagemaker_ci_cd.lib.settings import Settings\n",
    "\n",
    "SETTINGS = Settings()\n",
    "sagemaker_runtime = boto3.client('sagemaker-runtime')\n",
    "with open('../data/4.png', 'rb') as f:\n",
    "    payload = f.read()\n",
    "    try:\n",
    "        response = sagemaker_runtime.invoke_endpoint(\n",
    "            EndpointName=SETTINGS.github_sha[:7],\n",
    "            ContentType='application/octet-stream',  # Change this depending on your payload format\n",
    "            Accept='application/json',\n",
    "            Body=payload\n",
    "        )\n",
    "    except Exception as e:\n",
    "        raise(e)\n",
    "json_body = json.loads(response['Body'].read().decode('utf-8'))\n",
    "json_body['prediction'][0]"
   ]
  }
 ],
 "metadata": {
  "kernelspec": {
   "display_name": "mnist-sagemaker-ci-cd-env",
   "language": "python",
   "name": "python3"
  },
  "language_info": {
   "codemirror_mode": {
    "name": "ipython",
    "version": 3
   },
   "file_extension": ".py",
   "mimetype": "text/x-python",
   "name": "python",
   "nbconvert_exporter": "python",
   "pygments_lexer": "ipython3",
   "version": "3.11.7"
  }
 },
 "nbformat": 4,
 "nbformat_minor": 2
}
