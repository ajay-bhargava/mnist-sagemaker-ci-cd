{
 "cells": [
  {
   "cell_type": "markdown",
   "metadata": {},
   "source": [
    "# Testing an Endpoint\n",
    "## Invoking Endpoint using only `boto3`\n",
    "Lamdba functions are notorious for being unable to accomodate multiple python packages. To reduce the burden of the number of packages, we can use `boto3` to invoke the endpoint. This library allows you to test you endpoints against images and other such things. "
   ]
  },
  {
   "cell_type": "code",
   "execution_count": 3,
   "metadata": {},
   "outputs": [],
   "source": [
    "import sys\n",
    "sys.path.append('../')"
   ]
  },
  {
   "cell_type": "code",
   "execution_count": 4,
   "metadata": {},
   "outputs": [
    {
     "data": {
      "text/plain": [
       "6"
      ]
     },
     "execution_count": 4,
     "metadata": {},
     "output_type": "execute_result"
    }
   ],
   "source": [
    "import json\n",
    "import boto3\n",
    "from src.mnist_sagemaker_ci_cd.lib.settings import Settings\n",
    "\n",
    "SETTINGS = Settings()\n",
    "sagemaker_runtime = boto3.client('sagemaker-runtime')\n",
    "with open('../data/4.png', 'rb') as f:\n",
    "    payload = f.read()\n",
    "    try:\n",
    "        response = sagemaker_runtime.invoke_endpoint(\n",
    "            EndpointName=SETTINGS.github_sha[:7],\n",
    "            ContentType='application/octet-stream',  # Change this depending on your payload format\n",
    "            Accept='application/json',\n",
    "            Body=payload\n",
    "        )\n",
    "    except Exception as e:\n",
    "        raise(e)\n",
    "json_body = json.loads(response['Body'].read().decode('utf-8'))\n",
    "json_body['prediction'][0]"
   ]
  }
 ],
 "metadata": {
  "kernelspec": {
   "display_name": "mnist-sagemaker-ci-cd-env",
   "language": "python",
   "name": "python3"
  },
  "language_info": {
   "codemirror_mode": {
    "name": "ipython",
    "version": 3
   },
   "file_extension": ".py",
   "mimetype": "text/x-python",
   "name": "python",
   "nbconvert_exporter": "python",
   "pygments_lexer": "ipython3",
   "version": "3.11.7"
  }
 },
 "nbformat": 4,
 "nbformat_minor": 2
}
