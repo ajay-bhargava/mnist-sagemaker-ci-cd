{
 "cells": [
  {
   "cell_type": "markdown",
   "metadata": {},
   "source": [
    "# Generate `dvc` ready data\n",
    "This notebook I will show you how to create `dvc` ready training data for use in `with-context` custom Sagemaker containers. "
   ]
  },
  {
   "cell_type": "code",
   "execution_count": null,
   "metadata": {},
   "outputs": [],
   "source": [
    "\"\"\"Get the MNIST dataset.\"\"\"\n",
    "\n",
    "import boto3\n",
    "from torchvision import datasets, transforms\n",
    "\n",
    "region = boto3.Session().region_name\n",
    "\n",
    "datasets.MNIST.mirrors = [\n",
    "    f\"https://sagemaker-example-files-prod-{region}.s3.amazonaws.com/datasets/image/MNIST/\"\n",
    "]\n",
    "\n",
    "train_set = datasets.MNIST(\n",
    "    \"../data/\",\n",
    "    download=True,\n",
    "    transform=transforms.Compose(\n",
    "        [transforms.ToTensor(), transforms.Normalize((0.1307,), (0.3081,))]\n",
    "    ),\n",
    ")"
   ]
  },
  {
   "cell_type": "markdown",
   "metadata": {},
   "source": [
    "In the following cell, we run a bash script to upload this dataset to the tracked S3 bucket that DVC uses for version control. This will trigger an update in the `data.dvc` file to let DVC know that there is a new dataset. If this is the first time you're using the dataset, it will create the first version of the file. This works the same way a file commit works in git."
   ]
  },
  {
   "cell_type": "code",
   "execution_count": null,
   "metadata": {},
   "outputs": [],
   "source": [
    "%%bash\n",
    "dvc add ../data/\n",
    "dvc push"
   ]
  }
 ],
 "metadata": {
  "kernelspec": {
   "display_name": "mnist-sagemaker-ci-cd-env",
   "language": "python",
   "name": "python3"
  },
  "language_info": {
   "codemirror_mode": {
    "name": "ipython",
    "version": 3
   },
   "file_extension": ".py",
   "mimetype": "text/x-python",
   "name": "python",
   "nbconvert_exporter": "python",
   "pygments_lexer": "ipython3",
   "version": "3.11.7"
  }
 },
 "nbformat": 4,
 "nbformat_minor": 2
}
